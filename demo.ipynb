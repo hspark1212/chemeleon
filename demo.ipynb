{
 "cells": [
  {
   "cell_type": "code",
   "execution_count": null,
   "metadata": {},
   "outputs": [],
   "source": [
    "%load_ext autoreload\n",
    "%autoreload 2"
   ]
  },
  {
   "cell_type": "code",
   "execution_count": null,
   "metadata": {},
   "outputs": [],
   "source": [
    "from chemeleon import Chemeleon\n",
    "from chemeleon.visualize import Visualizer"
   ]
  },
  {
   "cell_type": "code",
   "execution_count": null,
   "metadata": {},
   "outputs": [],
   "source": [
    "# Load default model checkpoint (general text types)\n",
    "chemeleon = Chemeleon.load_general_text_model()"
   ]
  },
  {
   "cell_type": "markdown",
   "metadata": {},
   "source": [
    "### Generate crystal structure from text"
   ]
  },
  {
   "cell_type": "code",
   "execution_count": null,
   "metadata": {},
   "outputs": [],
   "source": [
    "# Set parameters\n",
    "n_samples = 5\n",
    "n_atoms = 6\n",
    "text_inputs = \"A crystal structure of LiMnO4 with orthorhombic symmetry\"\n",
    "\n",
    "# Generate crystal structure\n",
    "atoms_list = chemeleon.sample(text_inputs, n_atoms, n_samples)"
   ]
  },
  {
   "cell_type": "code",
   "execution_count": null,
   "metadata": {},
   "outputs": [],
   "source": [
    "# Visualize the generated crystal structure\n",
    "visualizer = Visualizer(atoms_list)\n",
    "visualizer.view(index=1)"
   ]
  },
  {
   "cell_type": "markdown",
   "metadata": {},
   "source": [
    "### Visualize the trajectory of crystal structure"
   ]
  },
  {
   "cell_type": "code",
   "execution_count": null,
   "metadata": {},
   "outputs": [],
   "source": [
    "n_samples = 5\n",
    "n_atoms = 24\n",
    "text_inputs = \"A crystal structure of LiMnO4 with orthorhombic symmetry\"\n",
    "\n",
    "# Generate crystal structure with trajectory\n",
    "trajectory = chemeleon.sample(text_inputs, n_atoms, n_samples, return_trajectory=True)"
   ]
  },
  {
   "cell_type": "code",
   "execution_count": null,
   "metadata": {},
   "outputs": [],
   "source": [
    "# Visualize the trajectory\n",
    "idx = 0\n",
    "traj_0 = [t[idx] for t in trajectory][::10] + [trajectory[-1][idx]]\n",
    "visualizer = Visualizer(traj_0, resolution=15)\n",
    "visualizer.view_trajectory(duration=0.1)"
   ]
  }
 ],
 "metadata": {
  "kernelspec": {
   "display_name": "chemeleon",
   "language": "python",
   "name": "python3"
  },
  "language_info": {
   "codemirror_mode": {
    "name": "ipython",
    "version": 3
   },
   "file_extension": ".py",
   "mimetype": "text/x-python",
   "name": "python",
   "nbconvert_exporter": "python",
   "pygments_lexer": "ipython3",
   "version": "3.10.13"
  }
 },
 "nbformat": 4,
 "nbformat_minor": 2
}
