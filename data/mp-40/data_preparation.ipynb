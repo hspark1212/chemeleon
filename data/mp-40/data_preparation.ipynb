{
 "cells": [
  {
   "cell_type": "code",
   "execution_count": 1,
   "metadata": {},
   "outputs": [],
   "source": [
    "%load_ext autoreload\n",
    "%autoreload 2"
   ]
  },
  {
   "cell_type": "code",
   "execution_count": 2,
   "metadata": {},
   "outputs": [],
   "source": [
    "import os\n",
    "import re\n",
    "import random\n",
    "import json\n",
    "from pathlib import Path\n",
    "import dotenv\n",
    "import warnings\n",
    "\n",
    "from tqdm import tqdm\n",
    "import pandas as pd\n",
    "import matplotlib.pyplot as plt\n",
    "\n",
    "from mp_api.client import MPRester\n",
    "from pymatgen.core import Structure, Composition\n",
    "from pymatgen.symmetry.analyzer import SpacegroupAnalyzer\n",
    "from robocrys.condense.mineral import MineralMatcher\n",
    "\n",
    "plt.rcParams[\"font.size\"] = 20\n",
    "warnings.filterwarnings(\"ignore\")"
   ]
  },
  {
   "cell_type": "code",
   "execution_count": 3,
   "metadata": {},
   "outputs": [],
   "source": [
    "base_path = Path(\"./data/mp-40/\")"
   ]
  },
  {
   "cell_type": "markdown",
   "metadata": {},
   "source": [
    "### Set up API key"
   ]
  },
  {
   "cell_type": "markdown",
   "metadata": {},
   "source": [
    "Save your materials project API key in a .env file in the same directory as this notebook. The file should look like this:\n",
    "\n",
    "```\n",
    "MP_API_KEY=your_api_key\n",
    "```"
   ]
  },
  {
   "cell_type": "code",
   "execution_count": 4,
   "metadata": {},
   "outputs": [],
   "source": [
    "dotenv.load_dotenv()\n",
    "MP_API_KEY = os.getenv(\"MP_API_KEY\")\n",
    "SCOPUS_API_KEY = os.getenv(\"SCOPUS_API_KEY\")\n",
    "OPENAI_API_KEY = os.getenv(\"OPENAI_API_KEY\")"
   ]
  },
  {
   "cell_type": "markdown",
   "metadata": {},
   "source": [
    "# 1. Materials Project"
   ]
  },
  {
   "cell_type": "markdown",
   "metadata": {},
   "source": [
    "### 1.1. Retrieving created_at from the Materials Project API"
   ]
  },
  {
   "cell_type": "markdown",
   "metadata": {},
   "source": [
    "`created_at` is only available in the `mpr.materials.search`, so we will use this function to retrieve the registration date of the materials."
   ]
  },
  {
   "cell_type": "code",
   "execution_count": null,
   "metadata": {},
   "outputs": [],
   "source": [
    "with MPRester(MP_API_KEY) as mpr:\n",
    "    total_docs = mpr.materials.search(\n",
    "        num_sites=[0, 40],\n",
    "        fields=[\n",
    "            \"material_id\",\n",
    "            \"created_at\",\n",
    "        ],\n",
    "    )"
   ]
  },
  {
   "cell_type": "code",
   "execution_count": null,
   "metadata": {},
   "outputs": [],
   "source": [
    "data = []\n",
    "for doc in total_docs:\n",
    "    data.append(\n",
    "        {\n",
    "            \"material_id\": doc.material_id,\n",
    "            \"created_at\": doc.created_at,\n",
    "        }\n",
    "    )\n",
    "df_mp_created_at = pd.DataFrame(data)\n",
    "# remove duplicates\n",
    "df_mp_created_at = df_mp_created_at.drop_duplicates(subset=[\"material_id\"])\n",
    "# save to csv\n",
    "df_mp_created_at.to_csv(base_path / \"mp-created-at.csv\", index=False)"
   ]
  },
  {
   "cell_type": "markdown",
   "metadata": {},
   "source": [
    "### 1.2. Donwload snapshot with constraints of num_sites <= 40 and energy convex hull <= 0.25 eV and experimental = True"
   ]
  },
  {
   "cell_type": "code",
   "execution_count": null,
   "metadata": {},
   "outputs": [],
   "source": [
    "with MPRester(MP_API_KEY) as mpr:\n",
    "    docs = mpr.summary.search(\n",
    "        num_sites=[0, 40],\n",
    "        # energy_above_hull=[0, 0.25],\n",
    "        theoretical=False,\n",
    "        fields=[\n",
    "            \"material_id\",\n",
    "            \"structure\",\n",
    "            \"energy_above_hull\",\n",
    "            \"band_gap\",\n",
    "            \"theoretical\",\n",
    "        ],\n",
    "    )"
   ]
  },
  {
   "cell_type": "code",
   "execution_count": 10,
   "metadata": {},
   "outputs": [],
   "source": [
    "excluded_gas_list = [\n",
    "    \"H\",\n",
    "    \"He\",\n",
    "    \"N\",\n",
    "    \"O\",\n",
    "    \"F\",\n",
    "    \"Ne\",\n",
    "    \"Cl\",\n",
    "    \"Ar\",\n",
    "    \"Kr\",\n",
    "    \"Xe\",\n",
    "    \"Rn\",\n",
    "    \"Fr\",\n",
    "    \"Og\",\n",
    "]"
   ]
  },
  {
   "cell_type": "code",
   "execution_count": null,
   "metadata": {},
   "outputs": [],
   "source": [
    "data = []\n",
    "for doc in tqdm(docs):\n",
    "    st = doc.structure\n",
    "    elements = [elmt.symbol for elmt in st.composition.elements]\n",
    "\n",
    "    if len(elements) == 1 and elements[0] in excluded_gas_list:\n",
    "        print(elements)\n",
    "        continue\n",
    "\n",
    "    if max(st.lattice.abc) > 20:\n",
    "        print(st.formula, st.lattice.abc)\n",
    "        continue\n",
    "\n",
    "    row = {\n",
    "        \"material_id\": doc.material_id,\n",
    "        \"energy_above_hull\": doc.energy_above_hull,\n",
    "        \"band_gap\": doc.band_gap,\n",
    "        \"cif\": st.to(fmt=\"cif\"),\n",
    "    }\n",
    "    data.append(row)\n",
    "\n",
    "df_mp_api = pd.DataFrame(data)\n",
    "# remove duplicates\n",
    "df_mp_api = df_mp_api.drop_duplicates(subset=\"material_id\")\n",
    "# shuffle\n",
    "df_mp_api = df_mp_api.sample(frac=1, random_state=42).reset_index()\n",
    "# save to csv\n",
    "df_mp_api.to_csv(base_path / \"mp-api.csv\", index=False)"
   ]
  },
  {
   "cell_type": "code",
   "execution_count": null,
   "metadata": {},
   "outputs": [],
   "source": [
    "plt.rcParams[\"font.size\"] = 20\n",
    "df_mp_api[\"energy_above_hull\"].hist(bins=100)\n",
    "plt.xlabel(\"Energy above hull (eV/atom)\")\n",
    "plt.ylabel(\"Number of materials\")\n",
    "plt.ylim(0, 1000)\n",
    "# fill the region of interest with red (0 to 0.25 eV/atom)\n",
    "plt.axvspan(0, 0.25, color=\"red\", alpha=0.2)\n",
    "plt.text(0.25, 800, \"Meta-stable\", color=\"red\")"
   ]
  },
  {
   "cell_type": "markdown",
   "metadata": {},
   "source": [
    "### 1.3. Download abstract using Crossref API"
   ]
  },
  {
   "cell_type": "code",
   "execution_count": 15,
   "metadata": {},
   "outputs": [],
   "source": [
    "# refer to \"./data/mp-40/get_abstract_from_materials_id.py\""
   ]
  },
  {
   "cell_type": "code",
   "execution_count": null,
   "metadata": {},
   "outputs": [],
   "source": [
    "df_mp_api = pd.read_csv(base_path / \"mp-api.csv\")\n",
    "material_ids = df_mp_api[\"material_id\"].values\n",
    "print(len(material_ids))\n",
    "\n",
    "# Analyze the abstract data\n",
    "print(f\"Number of total materials: {len(material_ids)}\")\n",
    "path_abstract_data = base_path / \"abstract_data\"\n",
    "abstract_data_files = list(path_abstract_data.glob(\"*.json\"))\n",
    "print(f\"Number of abstract data: {len(abstract_data_files)}\")\n",
    "\n",
    "# make pandas dataframe\n",
    "data = []\n",
    "for file in abstract_data_files:\n",
    "    d = json.load(open(file))\n",
    "    material_id = file.stem.split(\"_\")[0]\n",
    "    d[\"material_id\"] = material_id\n",
    "    data.append(d)\n",
    "\n",
    "df_abstract_data = pd.DataFrame(data)\n",
    "# df_abstract_data.to_csv(base_path / \"abstract-data.csv\", index=False)"
   ]
  },
  {
   "cell_type": "code",
   "execution_count": null,
   "metadata": {},
   "outputs": [],
   "source": [
    "# The number of reference papers per material\n",
    "df_abstract_data[\"material_id\"].value_counts().value_counts().sort_index().plot(\n",
    "    kind=\"bar\"\n",
    ")\n",
    "plt.xlabel(\"Number of references per material\")\n",
    "plt.ylabel(\"Number of materials\")\n",
    "plt.xlim(0, 10)"
   ]
  },
  {
   "cell_type": "code",
   "execution_count": null,
   "metadata": {},
   "outputs": [],
   "source": [
    "# Histogram of publication year\n",
    "df_year = df_abstract_data[\"year\"].dropna()\n",
    "df_year = df_year[df_year.str.isnumeric()]\n",
    "df_year.astype(int).hist(bins=50)\n",
    "plt.xlabel(\"Publication year\")"
   ]
  },
  {
   "cell_type": "code",
   "execution_count": 13,
   "metadata": {},
   "outputs": [],
   "source": [
    "# find NaN values\n",
    "df = df_abstract_data[~df_abstract_data[\"abstract\"].isna()]"
   ]
  },
  {
   "cell_type": "code",
   "execution_count": null,
   "metadata": {},
   "outputs": [],
   "source": [
    "for i in range(1000):\n",
    "    print(df.iloc[i][\"abstract\"], df.iloc[i][\"url\"])\n",
    "    print(\"-\" * 40)"
   ]
  },
  {
   "cell_type": "markdown",
   "metadata": {},
   "source": [
    "### 1.4. Calculate parameters using pymatgen"
   ]
  },
  {
   "cell_type": "code",
   "execution_count": null,
   "metadata": {},
   "outputs": [],
   "source": [
    "# calculate properties\n",
    "from pandarallel import pandarallel\n",
    "\n",
    "pandarallel.initialize(progress_bar=True)\n",
    "\n",
    "mineral_matcher = MineralMatcher()\n",
    "\n",
    "\n",
    "def calculate_property(data):\n",
    "    st = Structure.from_str(data.cif, fmt=\"cif\")\n",
    "    sg = SpacegroupAnalyzer(st, symprec=0.1)\n",
    "    data[\"composition\"] = st.composition.reduced_composition.alphabetical_formula\n",
    "    data[\"volume\"] = st.volume\n",
    "    data[\"density\"] = st.density\n",
    "    data[\"atomic_density\"] = st.density\n",
    "    data[\"crystal_system\"] = sg.get_crystal_system()\n",
    "    data[\"space_group_symbol\"] = sg.get_space_group_symbol()\n",
    "    data[\"space_group_number\"] = sg.get_space_group_number()\n",
    "    try:\n",
    "        data[\"mineral_name\"] = mineral_matcher.get_best_mineral_name()[\"type\"]\n",
    "    except:\n",
    "        data[\"mineral_name\"] = None\n",
    "    return data\n",
    "\n",
    "\n",
    "df_mp_api = pd.read_csv(base_path / \"mp-api.csv\")\n",
    "df_mp_total = df_mp_api.parallel_apply(calculate_property, axis=1)\n",
    "df_mp_total.to_csv(base_path / \"mp-total.csv\", index=False)"
   ]
  },
  {
   "cell_type": "markdown",
   "metadata": {},
   "source": [
    "### 1.5. Make test set registered after "
   ]
  },
  {
   "cell_type": "code",
   "execution_count": 5,
   "metadata": {},
   "outputs": [],
   "source": [
    "df_mp_total = pd.read_csv(base_path / \"mp-total.csv\")\n",
    "df_mp_total = df_mp_total.drop(columns=[\"index\"])"
   ]
  },
  {
   "cell_type": "code",
   "execution_count": 112,
   "metadata": {},
   "outputs": [],
   "source": [
    "# stable label\n",
    "df_mp_total[\"stability\"] = df_mp_total[\"energy_above_hull\"].apply(\n",
    "    lambda x: \"stable\" if x == 0 else \"metastable\" if x < 0.25 else \"unstable\"\n",
    ")\n",
    "# metallic label\n",
    "df_mp_total[\"metallic\"] = df_mp_total[\"band_gap\"].apply(\n",
    "    lambda x: \"metallic\" if x < 0.1 else \"insulator\"\n",
    ")"
   ]
  },
  {
   "cell_type": "code",
   "execution_count": null,
   "metadata": {},
   "outputs": [],
   "source": [
    "df_total = df_mp_total.sample(frac=1, random_state=42)\n",
    "df_test = df_total.iloc[:1000]\n",
    "df_train_val = df_total.iloc[1000:]\n",
    "num_train = int(len(df_train_val) * 0.90)\n",
    "df_train = df_train_val.iloc[:num_train]\n",
    "df_val = df_train_val.iloc[num_train:]\n",
    "print(len(df_train), len(df_val), len(df_test))"
   ]
  },
  {
   "cell_type": "code",
   "execution_count": 114,
   "metadata": {},
   "outputs": [],
   "source": [
    "# save\n",
    "df_train.to_csv(base_path / \"train.csv\", index=False)\n",
    "df_val.to_csv(base_path / \"val.csv\", index=False)\n",
    "df_test.to_csv(base_path / \"test.csv\", index=False)"
   ]
  },
  {
   "cell_type": "markdown",
   "metadata": {},
   "source": [
    "# 2. Text Prompts (MatCap)"
   ]
  },
  {
   "cell_type": "code",
   "execution_count": 5,
   "metadata": {},
   "outputs": [],
   "source": [
    "from openai import OpenAI"
   ]
  },
  {
   "cell_type": "code",
   "execution_count": 6,
   "metadata": {},
   "outputs": [],
   "source": [
    "df_mp_total = pd.read_csv(base_path / \"mp-total.csv\")\n",
    "df_abstract_data = pd.read_csv(base_path / \"abstract-data.csv\")\n",
    "df_abstract_data = df_abstract_data[~df_abstract_data[\"abstract\"].isna()]"
   ]
  },
  {
   "cell_type": "code",
   "execution_count": 38,
   "metadata": {},
   "outputs": [],
   "source": [
    "def composition_augmentation(composition: Composition):\n",
    "    comp_list = list(\n",
    "        set(\n",
    "            [\n",
    "                composition.reduced_formula,  # reduced formula\n",
    "                composition.reduced_composition.alphabetical_formula,  # reduced alphabetical formula\n",
    "                composition.reduced_composition.iupac_formula,  # reduced IUPAC formula\n",
    "                composition.reduced_composition.hill_formula,  # reduced Hill formula\n",
    "            ]\n",
    "        )\n",
    "    )\n",
    "    return comp_list"
   ]
  },
  {
   "cell_type": "code",
   "execution_count": 39,
   "metadata": {},
   "outputs": [
    {
     "name": "stderr",
     "output_type": "stream",
     "text": [
      "Reading file /home/hyunsoo/anaconda3/envs/chemeleon/lib/python3.10/site-packages/robocrys/condense/mineral_db.json.gz: 0it [00:00, ?it/s]##4   | 116/180 [00:00<00:00, 1141.17it/s]\n",
      "Decoding objects from /home/hyunsoo/anaconda3/envs/chemeleon/lib/python3.10/site-packages/robocrys/condense/mineral_db.json.gz: 100%|##########| 180/180 [00:00<00:00, 1313.10it/s]\n",
      "  0%|          | 1/35318 [00:00<11:28, 51.33it/s]"
     ]
    },
    {
     "name": "stdout",
     "output_type": "stream",
     "text": [
      "provide concise captions for \"MgZnAg2\" with the following properties:\n",
      "\n",
      "\n",
      "cubic\n",
      "stable\n",
      "metallic\n",
      "\n",
      "paper1 - title: Deformation of single crystals of the L21 ordered Ag2MgZn | abstract: The orientation and temperature dependence of slip geometry and yield stress in single crystals of the L21 ordered Ag2MgZn has been studied in compression in the temperature range 290 to 580 K. The slip direction in Ag2MgZn is exclusively 〈1 1 1〉 in this temperature range, but the slip plane varies with crystal orientations; slip occurs on (-2 1 1) for orientations near the [0 1 1]-[-1 1 1] boundary, while for the other orientations in the [0 0 1]-[0 1 1]-[-1 1 1] unit triangle it occurs on the (-1 0 1). The critical resolved shear stress (CRSS) for slip on both the (-1 0 1) [1 1 1] and (-2 1 1) [1 1 1] systems increases abnormally with increasing temperature and reaches a maximum peak at about 0.92 of the critical temperature Tc, for the L21-type order. The peak temperature and the shape of the CRSS versus temperature curve are independent not only of crystal orientation but also of the operative slip system. It is suggested that the strength anomaly in Ag2MgZn be interpreted in terms of the mechanism based on the transition from unit dislocations to superdislocations. © 1980 Chapman and Hall Ltd.\n",
      "paper2 - title: Phase relation and superlattice formation in the AgZn-AgMg quasibinary alloys | abstract: The phase relation in AgZnAgMg quasibinary alloys (Ag50Zn50-xMgx ternary alloys) was studied by high-temperature X-ray diffractometry and differential thermal analysis. The ζ-phase (complex hexagonal structure) which exists at low temperature in a terminal binary alloy AgZn disappears when Zn atoms of a few at. % are replaced by Mg atoms. On the other hand, the β'-phase (CsCl-type ordered structure) which is a stable phase of another terminal alloy AgMg extends to all the remaining composition. The transition temperature from the β'-phase to a β-phase (b.c.c. disordered structure) rises up rapidly with the increase of Mg content and the β'-phase becomes stable up to melting point in a composition range of more than about 25 at, % Mg. Further, a Heusler-type ordered phase appears at low temperature around a stoichiometric composition of Ag2ZnMg. The critical temperature between the Heusler- and β'-phases has a maximum (523 K) near the stoichiometric composition. The superlattice formation of Ag2ZnMg was discussed on a basis of the pseudopotential method. For this purpose, an expression of the structure-dependent energy was given for the ternary alloy Ag2ZnMg. The numerical result explained satisfactorily the existence of the two types of ordered phase. © 1977.\n",
      "\n",
      "\n",
      "Here are some examples:\n",
      "1. Orthorhombic crystal structure of ZnMnO4\n",
      "2. metastable crystal structure of LiO2\n",
      "3. Si1 C1 crystal structure with metallic properties\n",
      "\n",
      "Please provide \"five concise captions\" to describe the crystal structure with the various compound name: Ag2 Mg1 Zn1, Ag2 Mg Zn, Mg1 Ag2 Zn1, MgZnAg2\n",
      "\n",
      "----------------------------------------\n",
      "provide concise captions for \"CdSbS2Br\" with the following properties:\n",
      "\n",
      "\n",
      "monoclinic\n",
      "metastable\n",
      "insulator\n",
      "\n",
      "paper1 - title: Synthesis, Structure, and Properties of a New Family of Mixed‐Framework Chalcohalide Semiconductors: CdSbS<sub>2</sub>X (X: Cl, Br), CdBiS<sub>2</sub>X (X: Cl, Br), and CdBiSe<sub>2</sub>X (X: Br, I). | abstract: <jats:title>Abstract</jats:title><jats:p>ChemInform is a weekly Abstracting Service, delivering concise information at a glance that was extracted from about 200 leading journals. To access a ChemInform Abstract, please click on HTML or PDF.</jats:p>\n",
      "\n",
      "\n",
      "Here are some examples:\n",
      "1. Orthorhombic crystal structure of ZnMnO4\n",
      "2. metastable crystal structure of LiO2\n",
      "3. Si1 C1 crystal structure with metallic properties\n",
      "\n",
      "Please provide \"five concise captions\" to describe the crystal structure with the various compound name: Br Cd S2 Sb, Cd1 Sb1 S2 Br1, CdSbS2Br, Br1 Cd1 S2 Sb1\n",
      "\n",
      "----------------------------------------\n"
     ]
    },
    {
     "name": "stderr",
     "output_type": "stream",
     "text": [
      "\n"
     ]
    }
   ],
   "source": [
    "mineral_matcher = MineralMatcher()\n",
    "for idx, row in tqdm(df_mp_total.iterrows(), total=len(df_mp_total)):\n",
    "    st = Structure.from_str(row[\"cif\"], fmt=\"cif\")\n",
    "    # composition\n",
    "    composition = st.composition\n",
    "    reduced_formula = composition.reduced_formula\n",
    "    comp_list = composition_augmentation(composition)\n",
    "\n",
    "    # crystal system\n",
    "    crystal_system = row[\"crystal_system\"]\n",
    "\n",
    "    # stability: stable < 0 eV, metastable < 0.25 eV, unstable > 0.25 eV\n",
    "    stability = (\n",
    "        \"stable\"\n",
    "        if row[\"energy_above_hull\"] == 0\n",
    "        else \"metastable\" if row[\"energy_above_hull\"] < 0.25 else \"unstable\"\n",
    "    )\n",
    "\n",
    "    # metallic: metallic < 0.1 eV, insulator > 0.1 eV\n",
    "    metallic = \"metallic\" if row[\"band_gap\"] < 0.1 else \"insulator\"\n",
    "\n",
    "    # mineral\n",
    "    # mineral_name = \"\" if pd.isna(row[\"mineral_name\"]) else row[\"mineral_name\"]\n",
    "    mineral_name = \"\"  # TODO !!!!! remove this line\n",
    "\n",
    "    # paper data\n",
    "    paper_data = \"\"\n",
    "    if row[\"material_id\"] in df_abstract_data[\"material_id\"].values:\n",
    "        df = df_abstract_data[df_abstract_data[\"material_id\"] == row[\"material_id\"]]\n",
    "        for i, (_, row) in enumerate(df.iterrows()):\n",
    "            paper_data += f\"paper{i+1} - title: {row['title'][2:-2]} | abstract: {row['abstract']}\\n\"\n",
    "    paper_data = paper_data[:3000]  # limit the length of paper_data\n",
    "\n",
    "    template = f\"\"\"provide concise captions for \"{reduced_formula}\" with the following properties:\n",
    "\n",
    "\n",
    "{crystal_system}\n",
    "{stability}\n",
    "{metallic}\n",
    "{mineral_name}\n",
    "{paper_data}\n",
    "\n",
    "Here are some examples:\n",
    "1. Orthorhombic crystal structure of ZnMnO4\n",
    "2. metastable crystal structure of LiO2\n",
    "3. Si1 C1 crystal structure with metallic properties\n",
    "\n",
    "Please provide \"five concise captions\" to describe the crystal structure with the various compound name: {\", \".join(comp_list)}\n",
    "\"\"\"\n",
    "    print(template)\n",
    "    print(\"-\" * 40)\n",
    "    if idx == 1:\n",
    "        break"
   ]
  },
  {
   "cell_type": "code",
   "execution_count": 40,
   "metadata": {},
   "outputs": [],
   "source": [
    "client = OpenAI(\n",
    "    api_key=OPENAI_API_KEY,\n",
    ")"
   ]
  },
  {
   "cell_type": "code",
   "execution_count": 44,
   "metadata": {},
   "outputs": [
    {
     "name": "stdout",
     "output_type": "stream",
     "text": [
      "provide concise captions for \"CdSbS2Br\" with the following properties:\n",
      "\n",
      "\n",
      "monoclinic\n",
      "metastable\n",
      "insulator\n",
      "\n",
      "paper1 - title: Synthesis, Structure, and Properties of a New Family of Mixed‐Framework Chalcohalide Semiconductors: CdSbS<sub>2</sub>X (X: Cl, Br), CdBiS<sub>2</sub>X (X: Cl, Br), and CdBiSe<sub>2</sub>X (X: Br, I). | abstract: <jats:title>Abstract</jats:title><jats:p>ChemInform is a weekly Abstracting Service, delivering concise information at a glance that was extracted from about 200 leading journals. To access a ChemInform Abstract, please click on HTML or PDF.</jats:p>\n",
      "\n",
      "\n",
      "Here are some examples:\n",
      "1. Orthorhombic crystal structure of ZnMnO4\n",
      "2. metastable crystal structure of LiO2\n",
      "3. Si1 C1 crystal structure with metallic properties\n",
      "\n",
      "Please provide \"five concise captions\" to describe the crystal structure with the various compound name: Br Cd S2 Sb, Cd1 Sb1 S2 Br1, CdSbS2Br, Br1 Cd1 S2 Sb1\n",
      "\n"
     ]
    }
   ],
   "source": [
    "print(template)\n",
    "chat_completion = client.chat.completions.create(\n",
    "    messages=[\n",
    "        {\n",
    "            \"role\": \"user\",\n",
    "            \"content\": template,\n",
    "        }\n",
    "    ],\n",
    "    model=\"gpt-4o-mini\",\n",
    ")"
   ]
  },
  {
   "cell_type": "code",
   "execution_count": null,
   "metadata": {},
   "outputs": [
    {
     "name": "stdout",
     "output_type": "stream",
     "text": [
      "1. Monoclinic structure of CdSbS2Br, a metastable insulator.  \n",
      "2. Br Cd S2 Sb exhibits a unique monoclinic crystal formation.  \n",
      "3. Cd1 Sb1 S2 Br1: A metastable insulator with monoclinic geometry.  \n",
      "4. CdSbS2Br demonstrates distinctive properties as a layered chalcohalide.  \n",
      "5. Br1 Cd1 S2 Sb1 showcases a monoclinic structure with insulating characteristics.\n"
     ]
    }
   ],
   "source": [
    "output = chat_completion.choices[0].message.content\n",
    "print(output)"
   ]
  },
  {
   "cell_type": "code",
   "execution_count": null,
   "metadata": {},
   "outputs": [],
   "source": []
  },
  {
   "cell_type": "code",
   "execution_count": null,
   "metadata": {},
   "outputs": [],
   "source": []
  },
  {
   "cell_type": "code",
   "execution_count": null,
   "metadata": {},
   "outputs": [],
   "source": []
  },
  {
   "cell_type": "code",
   "execution_count": null,
   "metadata": {},
   "outputs": [],
   "source": [
    "# update trian, test, val\n",
    "for split in [\"train\", \"val\", \"test\"]:\n",
    "    df = pd.read_csv(base_path / f\"{split}.csv\")\n",
    "    df = pd.merge(df, df_prompts, on=\"material_id\")\n",
    "    df.to_csv(base_path / f\"{split}.csv\", index=False)"
   ]
  }
 ],
 "metadata": {
  "kernelspec": {
   "display_name": "chemeleon",
   "language": "python",
   "name": "python3"
  },
  "language_info": {
   "codemirror_mode": {
    "name": "ipython",
    "version": 3
   },
   "file_extension": ".py",
   "mimetype": "text/x-python",
   "name": "python",
   "nbconvert_exporter": "python",
   "pygments_lexer": "ipython3",
   "version": "3.10.16"
  }
 },
 "nbformat": 4,
 "nbformat_minor": 2
}
