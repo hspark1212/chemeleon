{
 "cells": [
  {
   "cell_type": "code",
   "execution_count": 1,
   "metadata": {},
   "outputs": [],
   "source": [
    "%load_ext autoreload\n",
    "%autoreload 2"
   ]
  },
  {
   "cell_type": "code",
   "execution_count": 2,
   "metadata": {},
   "outputs": [],
   "source": [
    "import os\n",
    "import re\n",
    "import random\n",
    "import requests\n",
    "import json\n",
    "from pathlib import Path\n",
    "import dotenv\n",
    "import warnings\n",
    "import datetime\n",
    "\n",
    "from tqdm import tqdm\n",
    "import numpy as np\n",
    "import pandas as pd\n",
    "import seaborn as sns\n",
    "import matplotlib.pyplot as plt\n",
    "\n",
    "import bibtexparser\n",
    "from mp_api.client import MPRester\n",
    "from pymatgen.core import Structure\n",
    "from pymatgen.symmetry.analyzer import SpacegroupAnalyzer\n",
    "from ase.visualize import view\n",
    "\n",
    "plt.rcParams[\"font.size\"] = 20\n",
    "warnings.filterwarnings(\"ignore\")"
   ]
  },
  {
   "cell_type": "code",
   "execution_count": 3,
   "metadata": {},
   "outputs": [],
   "source": [
    "base_path = Path(\"./data/mp-40/\")"
   ]
  },
  {
   "cell_type": "markdown",
   "metadata": {},
   "source": [
    "# 1. Materials Project"
   ]
  },
  {
   "cell_type": "markdown",
   "metadata": {},
   "source": [
    "### 1.0. Set up API key"
   ]
  },
  {
   "cell_type": "markdown",
   "metadata": {},
   "source": [
    "Save your materials project API key in a .env file in the same directory as this notebook. The file should look like this:\n",
    "\n",
    "```\n",
    "MP_API_KEY=your_api_key\n",
    "```"
   ]
  },
  {
   "cell_type": "code",
   "execution_count": 4,
   "metadata": {},
   "outputs": [],
   "source": [
    "dotenv.load_dotenv()\n",
    "MP_API_KEY = os.getenv(\"MP_API_KEY\")\n",
    "SCOPUS_API_KEY = os.getenv(\"SCOPUS_API_KEY\")\n",
    "OPENAI_API_KEY = os.getenv(\"OPENAI_API_KEY\")"
   ]
  },
  {
   "cell_type": "markdown",
   "metadata": {},
   "source": [
    "### 1.1. Retrieving created_at from the Materials Project API"
   ]
  },
  {
   "cell_type": "markdown",
   "metadata": {},
   "source": [
    "`created_at` is only available in the `mpr.materials.search`, so we will use this function to retrieve the registration date of the materials."
   ]
  },
  {
   "cell_type": "code",
   "execution_count": null,
   "metadata": {},
   "outputs": [],
   "source": [
    "with MPRester(MP_API_KEY) as mpr:\n",
    "    total_docs = mpr.materials.search(\n",
    "        num_sites=[0, 40],\n",
    "        fields=[\n",
    "            \"material_id\",\n",
    "            \"created_at\",\n",
    "        ],\n",
    "    )"
   ]
  },
  {
   "cell_type": "code",
   "execution_count": null,
   "metadata": {},
   "outputs": [],
   "source": [
    "data = []\n",
    "for doc in total_docs:\n",
    "    data.append(\n",
    "        {\n",
    "            \"material_id\": doc.material_id,\n",
    "            \"created_at\": doc.created_at,\n",
    "        }\n",
    "    )\n",
    "df_mp_created_at = pd.DataFrame(data)\n",
    "# remove duplicates\n",
    "df_mp_created_at = df_mp_created_at.drop_duplicates(subset=[\"material_id\"])\n",
    "# save to csv\n",
    "df_mp_created_at.to_csv(base_path / \"mp-created-at.csv\", index=False)"
   ]
  },
  {
   "cell_type": "markdown",
   "metadata": {},
   "source": [
    "### 1.2. Donwload snapshot with constraints of num_sites <= 40 and energy convex hull <= 0.25 eV and experimental = True"
   ]
  },
  {
   "cell_type": "code",
   "execution_count": null,
   "metadata": {},
   "outputs": [],
   "source": [
    "with MPRester(MP_API_KEY) as mpr:\n",
    "    docs = mpr.summary.search(\n",
    "        num_sites=[0, 40],\n",
    "        # energy_above_hull=[0, 0.25],\n",
    "        theoretical=False,\n",
    "        fields=[\n",
    "            \"material_id\",\n",
    "            \"structure\",\n",
    "            \"energy_above_hull\",\n",
    "            \"band_gap\",\n",
    "            \"theoretical\",\n",
    "        ],\n",
    "    )"
   ]
  },
  {
   "cell_type": "code",
   "execution_count": 10,
   "metadata": {},
   "outputs": [],
   "source": [
    "excluded_gas_list = [\n",
    "    \"H\",\n",
    "    \"He\",\n",
    "    \"N\",\n",
    "    \"O\",\n",
    "    \"F\",\n",
    "    \"Ne\",\n",
    "    \"Cl\",\n",
    "    \"Ar\",\n",
    "    \"Kr\",\n",
    "    \"Xe\",\n",
    "    \"Rn\",\n",
    "    \"Fr\",\n",
    "    \"Og\",\n",
    "]"
   ]
  },
  {
   "cell_type": "code",
   "execution_count": null,
   "metadata": {},
   "outputs": [],
   "source": [
    "data = []\n",
    "for doc in tqdm(docs):\n",
    "    st = doc.structure\n",
    "    elements = [elmt.symbol for elmt in st.composition.elements]\n",
    "\n",
    "    if len(elements) == 1 and elements[0] in excluded_gas_list:\n",
    "        print(elements)\n",
    "        continue\n",
    "\n",
    "    if max(st.lattice.abc) > 20:\n",
    "        print(st.formula, st.lattice.abc)\n",
    "        continue\n",
    "\n",
    "    row = {\n",
    "        \"material_id\": doc.material_id,\n",
    "        \"energy_above_hull\": doc.energy_above_hull,\n",
    "        \"band_gap\": doc.band_gap,\n",
    "        \"cif\": st.to(fmt=\"cif\"),\n",
    "    }\n",
    "    data.append(row)\n",
    "\n",
    "df_mp_api = pd.DataFrame(data)\n",
    "# remove duplicates\n",
    "df_mp_api = df_mp_api.drop_duplicates(subset=\"material_id\")\n",
    "# shuffle\n",
    "df_mp_api = df_mp_api.sample(frac=1, random_state=42).reset_index()\n",
    "# save to csv\n",
    "df_mp_api.to_csv(base_path / \"mp-api.csv\", index=False)"
   ]
  },
  {
   "cell_type": "code",
   "execution_count": null,
   "metadata": {},
   "outputs": [],
   "source": [
    "plt.rcParams[\"font.size\"] = 20\n",
    "df_mp_api[\"energy_above_hull\"].hist(bins=100)\n",
    "plt.xlabel(\"Energy above hull (eV/atom)\")\n",
    "plt.ylabel(\"Number of materials\")\n",
    "plt.ylim(0, 1000)\n",
    "# fill the region of interest with red (0 to 0.25 eV/atom)\n",
    "plt.axvspan(0, 0.25, color=\"red\", alpha=0.2)\n",
    "plt.text(0.25, 800, \"Meta-stable\", color=\"red\")"
   ]
  },
  {
   "cell_type": "markdown",
   "metadata": {},
   "source": [
    "### 1.3. Download abstract using Crossref API"
   ]
  },
  {
   "cell_type": "code",
   "execution_count": 15,
   "metadata": {},
   "outputs": [],
   "source": [
    "# refer to \"./data/mp-40/get_abstract_from_materials_id.py\""
   ]
  },
  {
   "cell_type": "code",
   "execution_count": null,
   "metadata": {},
   "outputs": [],
   "source": [
    "df_mp_api = pd.read_csv(base_path / \"mp-api.csv\")\n",
    "material_ids = df_mp_api[\"material_id\"].values\n",
    "print(len(material_ids))\n",
    "\n",
    "# Analyze the abstract data\n",
    "print(f\"Number of total materials: {len(material_ids)}\")\n",
    "path_abstract_data = base_path / \"abstract_data\"\n",
    "abstract_data_files = list(path_abstract_data.glob(\"*.json\"))\n",
    "print(f\"Number of abstract data: {len(abstract_data_files)}\")\n",
    "\n",
    "# make pandas dataframe\n",
    "data = []\n",
    "for file in abstract_data_files:\n",
    "    d = json.load(open(file))\n",
    "    material_id = file.stem.split(\"_\")[0]\n",
    "    d[\"material_id\"] = material_id\n",
    "    data.append(d)\n",
    "\n",
    "df_abstract_data = pd.DataFrame(data)\n",
    "df_abstract_data"
   ]
  },
  {
   "cell_type": "code",
   "execution_count": null,
   "metadata": {},
   "outputs": [],
   "source": [
    "# The number of reference papers per material\n",
    "df_abstract_data[\"material_id\"].value_counts().value_counts().sort_index().plot(\n",
    "    kind=\"bar\"\n",
    ")\n",
    "plt.xlabel(\"Number of references per material\")\n",
    "plt.ylabel(\"Number of materials\")\n",
    "plt.xlim(0, 10)"
   ]
  },
  {
   "cell_type": "code",
   "execution_count": null,
   "metadata": {},
   "outputs": [],
   "source": [
    "# Histogram of publication year\n",
    "df_year = df_abstract_data[\"year\"].dropna()\n",
    "df_year = df_year[df_year.str.isnumeric()]\n",
    "df_year.astype(int).hist(bins=50)\n",
    "plt.xlabel(\"Publication year\")"
   ]
  },
  {
   "cell_type": "code",
   "execution_count": 13,
   "metadata": {},
   "outputs": [],
   "source": [
    "# find NaN values\n",
    "df = df_abstract_data[~df_abstract_data[\"abstract\"].isna()]"
   ]
  },
  {
   "cell_type": "code",
   "execution_count": null,
   "metadata": {},
   "outputs": [],
   "source": [
    "for i in range(1000):\n",
    "    print(df.iloc[i][\"abstract\"], df.iloc[i][\"url\"])\n",
    "    print(\"-\" * 40)"
   ]
  },
  {
   "cell_type": "markdown",
   "metadata": {},
   "source": [
    "### 1.4. Calculate parameters using pymatgen"
   ]
  },
  {
   "cell_type": "code",
   "execution_count": null,
   "metadata": {},
   "outputs": [],
   "source": [
    "# calculate properties\n",
    "from pandarallel import pandarallel\n",
    "\n",
    "pandarallel.initialize(progress_bar=True)\n",
    "\n",
    "\n",
    "def calculate_property(data):\n",
    "    st = Structure.from_str(data.cif, fmt=\"cif\")\n",
    "    sg = SpacegroupAnalyzer(st, symprec=0.1)\n",
    "    data[\"composition\"] = st.composition.reduced_composition.alphabetical_formula\n",
    "    data[\"volume\"] = st.volume\n",
    "    data[\"density\"] = st.density\n",
    "    data[\"atomic_density\"] = st.density\n",
    "    data[\"crystal_system\"] = sg.get_crystal_system()\n",
    "    data[\"space_group_symbol\"] = sg.get_space_group_symbol()\n",
    "    data[\"space_group_number\"] = sg.get_space_group_number()\n",
    "    return data\n",
    "\n",
    "\n",
    "df_mp_api = pd.read_csv(base_path / \"mp-api.csv\")\n",
    "df_mp_total = df_mp_api.parallel_apply(calculate_property, axis=1)\n",
    "df_mp_total.to_csv(base_path / \"mp-total.csv\", index=False)"
   ]
  },
  {
   "cell_type": "markdown",
   "metadata": {},
   "source": [
    "### 1.3. Make test set registered after "
   ]
  },
  {
   "cell_type": "code",
   "execution_count": 111,
   "metadata": {},
   "outputs": [],
   "source": [
    "df_mp_total = pd.read_csv(base_path / \"mp-total.csv\")\n",
    "df_mp_total = df_mp_total.drop(columns=[\"index\"])"
   ]
  },
  {
   "cell_type": "code",
   "execution_count": 112,
   "metadata": {},
   "outputs": [],
   "source": [
    "# stable label\n",
    "df_mp_total[\"stability\"] = df_mp_total[\"energy_above_hull\"].apply(\n",
    "    lambda x: \"stable\" if x == 0 else \"metastable\" if x < 0.25 else \"unstable\"\n",
    ")\n",
    "# metallic label\n",
    "df_mp_total[\"metallic\"] = df_mp_total[\"band_gap\"].apply(\n",
    "    lambda x: \"metallic\" if x < 0.1 else \"insulator\"\n",
    ")"
   ]
  },
  {
   "cell_type": "code",
   "execution_count": null,
   "metadata": {},
   "outputs": [],
   "source": [
    "df_total = df_mp_total.sample(frac=1, random_state=42)\n",
    "df_test = df_total.iloc[:1000]\n",
    "df_train_val = df_total.iloc[1000:]\n",
    "num_train = int(len(df_train_val) * 0.90)\n",
    "df_train = df_train_val.iloc[:num_train]\n",
    "df_val = df_train_val.iloc[num_train:]\n",
    "print(len(df_train), len(df_val), len(df_test))"
   ]
  },
  {
   "cell_type": "code",
   "execution_count": 114,
   "metadata": {},
   "outputs": [],
   "source": [
    "# save\n",
    "df_train.to_csv(base_path / \"train.csv\", index=False)\n",
    "df_val.to_csv(base_path / \"val.csv\", index=False)\n",
    "df_test.to_csv(base_path / \"test.csv\", index=False)"
   ]
  },
  {
   "cell_type": "markdown",
   "metadata": {},
   "source": [
    "# 2. Text Prompts"
   ]
  },
  {
   "cell_type": "code",
   "execution_count": null,
   "metadata": {},
   "outputs": [],
   "source": [
    "# ! generate_text_prompt.py"
   ]
  },
  {
   "cell_type": "code",
   "execution_count": null,
   "metadata": {},
   "outputs": [],
   "source": [
    "path_prompts = Path(\"../mp-50/prompts/\")  # TODO: change the path\n",
    "text_files = list(path_prompts.glob(\"*.txt\"))\n",
    "\n",
    "# read and make df\n",
    "prompts = {}\n",
    "for text_file in text_files:\n",
    "    material_id = text_file.stem\n",
    "    with open(text_file, \"r\") as f:\n",
    "        text = f.read()\n",
    "        revised_text = re.sub(r\"\\d+\\.\\s\", \"\", text)\n",
    "        text_prompts = revised_text.split(\"\\n\")\n",
    "        prompt = random.choice(text_prompts)  # select one prompt randomly\n",
    "        prompts[material_id] = prompt\n",
    "\n",
    "df_prompts = pd.DataFrame(prompts.items(), columns=[\"material_id\", \"prompt\"])"
   ]
  },
  {
   "cell_type": "code",
   "execution_count": null,
   "metadata": {},
   "outputs": [],
   "source": [
    "# update trian, test, val\n",
    "for split in [\"train\", \"val\", \"test\"]:\n",
    "    df = pd.read_csv(base_path / f\"{split}.csv\")\n",
    "    df = pd.merge(df, df_prompts, on=\"material_id\")\n",
    "    df.to_csv(base_path / f\"{split}.csv\", index=False)"
   ]
  },
  {
   "cell_type": "markdown",
   "metadata": {},
   "source": [
    "## Info lattice matrix"
   ]
  },
  {
   "cell_type": "code",
   "execution_count": 97,
   "metadata": {},
   "outputs": [],
   "source": [
    "df_train = pd.read_csv(base_path / \"train.csv\")\n",
    "st_list = [Structure.from_str(cif, fmt=\"cif\") for cif in df_train[\"cif\"]]"
   ]
  },
  {
   "cell_type": "code",
   "execution_count": 101,
   "metadata": {},
   "outputs": [],
   "source": [
    "lattice_params = np.array([st.lattice.parameters for st in st_list])\n",
    "lattice_params_mean = lattice_params.mean(axis=0)\n",
    "lattice_params_std = lattice_params.std(axis=0)\n",
    "print(lattice_params_mean, lattice_params_std)"
   ]
  },
  {
   "cell_type": "code",
   "execution_count": 105,
   "metadata": {},
   "outputs": [],
   "source": [
    "# write\n",
    "lattice_params_mean = lattice_params_mean.tolist()\n",
    "lattice_params_std = lattice_params_std.tolist()\n",
    "with open(base_path / \"lattice_params.txt\", \"w\") as f:\n",
    "    f.write(f\"mean: {lattice_params_mean}\\n\")\n",
    "    f.write(f\"std: {lattice_params_std}\\n\")"
   ]
  }
 ],
 "metadata": {
  "kernelspec": {
   "display_name": "chemeleon",
   "language": "python",
   "name": "python3"
  },
  "language_info": {
   "codemirror_mode": {
    "name": "ipython",
    "version": 3
   },
   "file_extension": ".py",
   "mimetype": "text/x-python",
   "name": "python",
   "nbconvert_exporter": "python",
   "pygments_lexer": "ipython3",
   "version": "3.10.16"
  }
 },
 "nbformat": 4,
 "nbformat_minor": 2
}
